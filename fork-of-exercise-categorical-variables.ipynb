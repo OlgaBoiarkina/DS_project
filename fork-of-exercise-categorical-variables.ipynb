{
 "cells": [
  {
   "cell_type": "markdown",
   "metadata": {
    "papermill": {
     "duration": 0.024288,
     "end_time": "2020-11-01T12:57:21.955819",
     "exception": false,
     "start_time": "2020-11-01T12:57:21.931531",
     "status": "completed"
    },
    "tags": []
   },
   "source": [
    "The data used is from Housing Prices Competition for Kaggle Learn Users."
   ]
  },
  {
   "cell_type": "markdown",
   "metadata": {
    "papermill": {
     "duration": 0.022831,
     "end_time": "2020-11-01T12:57:22.001839",
     "exception": false,
     "start_time": "2020-11-01T12:57:21.979008",
     "status": "completed"
    },
    "tags": []
   },
   "source": [
    "**This project is solely devoted to investigating the data (house pricing in Melbourne), dealing with categorical variables, missing values and evaluating the data using different ML algorithms. **"
   ]
  },
  {
   "cell_type": "code",
   "execution_count": 1,
   "metadata": {
    "execution": {
     "iopub.execute_input": "2020-11-01T12:57:22.059292Z",
     "iopub.status.busy": "2020-11-01T12:57:22.058316Z",
     "iopub.status.idle": "2020-11-01T12:57:23.250619Z",
     "shell.execute_reply": "2020-11-01T12:57:23.249843Z"
    },
    "papermill": {
     "duration": 1.224636,
     "end_time": "2020-11-01T12:57:23.250780",
     "exception": false,
     "start_time": "2020-11-01T12:57:22.026144",
     "status": "completed"
    },
    "tags": []
   },
   "outputs": [],
   "source": [
    "import pandas as pd\n",
    "from sklearn.model_selection import train_test_split\n",
    "\n",
    "# Read the data\n",
    "X = pd.read_csv('../input/train.csv', index_col='Id') \n",
    "X_test = pd.read_csv('../input/test.csv', index_col='Id')\n",
    "\n",
    "# Remove rows with missing target, separate target from predictors\n",
    "X.dropna(axis=0, subset=['SalePrice'], inplace=True)\n",
    "y = X.SalePrice\n",
    "X.drop(['SalePrice'], axis=1, inplace=True)\n",
    "\n",
    "# Break off validation set from training data\n",
    "X_train, X_valid, y_train, y_valid = train_test_split(X, y,\n",
    "                                                      train_size=0.8, test_size=0.2,\n",
    "                                                      random_state=0)"
   ]
  },
  {
   "cell_type": "code",
   "execution_count": 2,
   "metadata": {
    "execution": {
     "iopub.execute_input": "2020-11-01T12:57:23.317692Z",
     "iopub.status.busy": "2020-11-01T12:57:23.316762Z",
     "iopub.status.idle": "2020-11-01T12:57:23.322146Z",
     "shell.execute_reply": "2020-11-01T12:57:23.321154Z"
    },
    "papermill": {
     "duration": 0.04868,
     "end_time": "2020-11-01T12:57:23.322319",
     "exception": false,
     "start_time": "2020-11-01T12:57:23.273639",
     "status": "completed"
    },
    "tags": []
   },
   "outputs": [
    {
     "name": "stdout",
     "output_type": "stream",
     "text": [
      "      MSSubClass MSZoning  LotFrontage  LotArea Street Alley LotShape  \\\n",
      "Id                                                                      \n",
      "619           20       RL         90.0    11694   Pave   NaN      Reg   \n",
      "871           20       RL         60.0     6600   Pave   NaN      Reg   \n",
      "93            30       RL         80.0    13360   Pave  Grvl      IR1   \n",
      "818           20       RL          NaN    13265   Pave   NaN      IR1   \n",
      "303           20       RL        118.0    13704   Pave   NaN      IR1   \n",
      "1455          20       FV         62.0     7500   Pave  Pave      Reg   \n",
      "41            20       RL         84.0     8658   Pave   NaN      Reg   \n",
      "960          160       FV         24.0     2572   Pave   NaN      Reg   \n",
      "76           180       RM         21.0     1596   Pave   NaN      Reg   \n",
      "1390          50       RM         60.0     6000   Pave   NaN      Reg   \n",
      "\n",
      "     LandContour Utilities LotConfig  ... ScreenPorch PoolArea PoolQC Fence  \\\n",
      "Id                                    ...                                     \n",
      "619          Lvl    AllPub    Inside  ...         260        0    NaN   NaN   \n",
      "871          Lvl    AllPub    Inside  ...           0        0    NaN   NaN   \n",
      "93           HLS    AllPub    Inside  ...           0        0    NaN   NaN   \n",
      "818          Lvl    AllPub   CulDSac  ...           0        0    NaN   NaN   \n",
      "303          Lvl    AllPub    Corner  ...           0        0    NaN   NaN   \n",
      "1455         Lvl    AllPub    Inside  ...           0        0    NaN   NaN   \n",
      "41           Lvl    AllPub    Inside  ...           0        0    NaN  GdWo   \n",
      "960          Lvl    AllPub       FR2  ...           0        0    NaN   NaN   \n",
      "76           Lvl    AllPub    Inside  ...           0        0    NaN  GdWo   \n",
      "1390         Lvl    AllPub    Inside  ...           0        0    NaN   NaN   \n",
      "\n",
      "     MiscFeature MiscVal  MoSold  YrSold  SaleType  SaleCondition  \n",
      "Id                                                                 \n",
      "619          NaN       0       7    2007       New        Partial  \n",
      "871          NaN       0       8    2009        WD         Normal  \n",
      "93           NaN       0       8    2009        WD         Normal  \n",
      "818          NaN       0       7    2008        WD         Normal  \n",
      "303          NaN       0       1    2006        WD         Normal  \n",
      "1455         NaN       0      10    2009        WD         Normal  \n",
      "41           NaN       0      12    2006        WD        Abnorml  \n",
      "960          NaN       0       5    2010        WD         Normal  \n",
      "76           NaN       0      11    2009        WD         Normal  \n",
      "1390         NaN       0       3    2007        WD         Normal  \n",
      "\n",
      "[10 rows x 79 columns]\n"
     ]
    }
   ],
   "source": [
    "#explore 10 first rows of data\n",
    "print(X_train.head(10))"
   ]
  },
  {
   "cell_type": "code",
   "execution_count": 3,
   "metadata": {
    "execution": {
     "iopub.execute_input": "2020-11-01T12:57:23.381599Z",
     "iopub.status.busy": "2020-11-01T12:57:23.380436Z",
     "iopub.status.idle": "2020-11-01T12:57:23.492482Z",
     "shell.execute_reply": "2020-11-01T12:57:23.493083Z"
    },
    "papermill": {
     "duration": 0.146315,
     "end_time": "2020-11-01T12:57:23.493240",
     "exception": false,
     "start_time": "2020-11-01T12:57:23.346925",
     "status": "completed"
    },
    "tags": []
   },
   "outputs": [
    {
     "data": {
      "text/html": [
       "<div>\n",
       "<style scoped>\n",
       "    .dataframe tbody tr th:only-of-type {\n",
       "        vertical-align: middle;\n",
       "    }\n",
       "\n",
       "    .dataframe tbody tr th {\n",
       "        vertical-align: top;\n",
       "    }\n",
       "\n",
       "    .dataframe thead th {\n",
       "        text-align: right;\n",
       "    }\n",
       "</style>\n",
       "<table border=\"1\" class=\"dataframe\">\n",
       "  <thead>\n",
       "    <tr style=\"text-align: right;\">\n",
       "      <th></th>\n",
       "      <th>MSSubClass</th>\n",
       "      <th>LotFrontage</th>\n",
       "      <th>LotArea</th>\n",
       "      <th>OverallQual</th>\n",
       "      <th>OverallCond</th>\n",
       "      <th>YearBuilt</th>\n",
       "      <th>YearRemodAdd</th>\n",
       "      <th>MasVnrArea</th>\n",
       "      <th>BsmtFinSF1</th>\n",
       "      <th>BsmtFinSF2</th>\n",
       "      <th>...</th>\n",
       "      <th>GarageArea</th>\n",
       "      <th>WoodDeckSF</th>\n",
       "      <th>OpenPorchSF</th>\n",
       "      <th>EnclosedPorch</th>\n",
       "      <th>3SsnPorch</th>\n",
       "      <th>ScreenPorch</th>\n",
       "      <th>PoolArea</th>\n",
       "      <th>MiscVal</th>\n",
       "      <th>MoSold</th>\n",
       "      <th>YrSold</th>\n",
       "    </tr>\n",
       "  </thead>\n",
       "  <tbody>\n",
       "    <tr>\n",
       "      <th>count</th>\n",
       "      <td>1168.000000</td>\n",
       "      <td>956.000000</td>\n",
       "      <td>1168.000000</td>\n",
       "      <td>1168.000000</td>\n",
       "      <td>1168.000000</td>\n",
       "      <td>1168.000000</td>\n",
       "      <td>1168.000000</td>\n",
       "      <td>1162.000000</td>\n",
       "      <td>1168.000000</td>\n",
       "      <td>1168.000000</td>\n",
       "      <td>...</td>\n",
       "      <td>1168.000000</td>\n",
       "      <td>1168.000000</td>\n",
       "      <td>1168.000000</td>\n",
       "      <td>1168.000000</td>\n",
       "      <td>1168.000000</td>\n",
       "      <td>1168.000000</td>\n",
       "      <td>1168.000000</td>\n",
       "      <td>1168.000000</td>\n",
       "      <td>1168.000000</td>\n",
       "      <td>1168.000000</td>\n",
       "    </tr>\n",
       "    <tr>\n",
       "      <th>mean</th>\n",
       "      <td>56.605308</td>\n",
       "      <td>69.614017</td>\n",
       "      <td>10589.672945</td>\n",
       "      <td>6.086473</td>\n",
       "      <td>5.572774</td>\n",
       "      <td>1970.890411</td>\n",
       "      <td>1984.692637</td>\n",
       "      <td>103.481067</td>\n",
       "      <td>439.890411</td>\n",
       "      <td>45.571918</td>\n",
       "      <td>...</td>\n",
       "      <td>473.632705</td>\n",
       "      <td>94.498288</td>\n",
       "      <td>48.044521</td>\n",
       "      <td>23.022260</td>\n",
       "      <td>3.218322</td>\n",
       "      <td>14.528253</td>\n",
       "      <td>2.118151</td>\n",
       "      <td>50.936644</td>\n",
       "      <td>6.301370</td>\n",
       "      <td>2007.819349</td>\n",
       "    </tr>\n",
       "    <tr>\n",
       "      <th>std</th>\n",
       "      <td>42.172322</td>\n",
       "      <td>22.946069</td>\n",
       "      <td>10704.180793</td>\n",
       "      <td>1.367472</td>\n",
       "      <td>1.116908</td>\n",
       "      <td>30.407486</td>\n",
       "      <td>20.684612</td>\n",
       "      <td>182.676225</td>\n",
       "      <td>435.106803</td>\n",
       "      <td>156.229962</td>\n",
       "      <td>...</td>\n",
       "      <td>209.442320</td>\n",
       "      <td>127.312017</td>\n",
       "      <td>68.619199</td>\n",
       "      <td>63.153093</td>\n",
       "      <td>27.916593</td>\n",
       "      <td>54.009608</td>\n",
       "      <td>36.482294</td>\n",
       "      <td>550.380636</td>\n",
       "      <td>2.725977</td>\n",
       "      <td>1.335971</td>\n",
       "    </tr>\n",
       "    <tr>\n",
       "      <th>min</th>\n",
       "      <td>20.000000</td>\n",
       "      <td>21.000000</td>\n",
       "      <td>1300.000000</td>\n",
       "      <td>1.000000</td>\n",
       "      <td>1.000000</td>\n",
       "      <td>1872.000000</td>\n",
       "      <td>1950.000000</td>\n",
       "      <td>0.000000</td>\n",
       "      <td>0.000000</td>\n",
       "      <td>0.000000</td>\n",
       "      <td>...</td>\n",
       "      <td>0.000000</td>\n",
       "      <td>0.000000</td>\n",
       "      <td>0.000000</td>\n",
       "      <td>0.000000</td>\n",
       "      <td>0.000000</td>\n",
       "      <td>0.000000</td>\n",
       "      <td>0.000000</td>\n",
       "      <td>0.000000</td>\n",
       "      <td>1.000000</td>\n",
       "      <td>2006.000000</td>\n",
       "    </tr>\n",
       "    <tr>\n",
       "      <th>25%</th>\n",
       "      <td>20.000000</td>\n",
       "      <td>59.000000</td>\n",
       "      <td>7589.500000</td>\n",
       "      <td>5.000000</td>\n",
       "      <td>5.000000</td>\n",
       "      <td>1953.750000</td>\n",
       "      <td>1966.000000</td>\n",
       "      <td>0.000000</td>\n",
       "      <td>0.000000</td>\n",
       "      <td>0.000000</td>\n",
       "      <td>...</td>\n",
       "      <td>336.000000</td>\n",
       "      <td>0.000000</td>\n",
       "      <td>0.000000</td>\n",
       "      <td>0.000000</td>\n",
       "      <td>0.000000</td>\n",
       "      <td>0.000000</td>\n",
       "      <td>0.000000</td>\n",
       "      <td>0.000000</td>\n",
       "      <td>5.000000</td>\n",
       "      <td>2007.000000</td>\n",
       "    </tr>\n",
       "    <tr>\n",
       "      <th>50%</th>\n",
       "      <td>50.000000</td>\n",
       "      <td>69.000000</td>\n",
       "      <td>9512.500000</td>\n",
       "      <td>6.000000</td>\n",
       "      <td>5.000000</td>\n",
       "      <td>1972.000000</td>\n",
       "      <td>1993.000000</td>\n",
       "      <td>0.000000</td>\n",
       "      <td>379.500000</td>\n",
       "      <td>0.000000</td>\n",
       "      <td>...</td>\n",
       "      <td>477.500000</td>\n",
       "      <td>0.000000</td>\n",
       "      <td>26.000000</td>\n",
       "      <td>0.000000</td>\n",
       "      <td>0.000000</td>\n",
       "      <td>0.000000</td>\n",
       "      <td>0.000000</td>\n",
       "      <td>0.000000</td>\n",
       "      <td>6.000000</td>\n",
       "      <td>2008.000000</td>\n",
       "    </tr>\n",
       "    <tr>\n",
       "      <th>75%</th>\n",
       "      <td>70.000000</td>\n",
       "      <td>80.000000</td>\n",
       "      <td>11601.500000</td>\n",
       "      <td>7.000000</td>\n",
       "      <td>6.000000</td>\n",
       "      <td>2000.000000</td>\n",
       "      <td>2004.000000</td>\n",
       "      <td>167.750000</td>\n",
       "      <td>716.000000</td>\n",
       "      <td>0.000000</td>\n",
       "      <td>...</td>\n",
       "      <td>576.000000</td>\n",
       "      <td>168.000000</td>\n",
       "      <td>68.000000</td>\n",
       "      <td>0.000000</td>\n",
       "      <td>0.000000</td>\n",
       "      <td>0.000000</td>\n",
       "      <td>0.000000</td>\n",
       "      <td>0.000000</td>\n",
       "      <td>8.000000</td>\n",
       "      <td>2009.000000</td>\n",
       "    </tr>\n",
       "    <tr>\n",
       "      <th>max</th>\n",
       "      <td>190.000000</td>\n",
       "      <td>313.000000</td>\n",
       "      <td>215245.000000</td>\n",
       "      <td>10.000000</td>\n",
       "      <td>9.000000</td>\n",
       "      <td>2010.000000</td>\n",
       "      <td>2010.000000</td>\n",
       "      <td>1600.000000</td>\n",
       "      <td>2260.000000</td>\n",
       "      <td>1120.000000</td>\n",
       "      <td>...</td>\n",
       "      <td>1390.000000</td>\n",
       "      <td>736.000000</td>\n",
       "      <td>547.000000</td>\n",
       "      <td>552.000000</td>\n",
       "      <td>508.000000</td>\n",
       "      <td>480.000000</td>\n",
       "      <td>738.000000</td>\n",
       "      <td>15500.000000</td>\n",
       "      <td>12.000000</td>\n",
       "      <td>2010.000000</td>\n",
       "    </tr>\n",
       "  </tbody>\n",
       "</table>\n",
       "<p>8 rows × 36 columns</p>\n",
       "</div>"
      ],
      "text/plain": [
       "        MSSubClass  LotFrontage        LotArea  OverallQual  OverallCond  \\\n",
       "count  1168.000000   956.000000    1168.000000  1168.000000  1168.000000   \n",
       "mean     56.605308    69.614017   10589.672945     6.086473     5.572774   \n",
       "std      42.172322    22.946069   10704.180793     1.367472     1.116908   \n",
       "min      20.000000    21.000000    1300.000000     1.000000     1.000000   \n",
       "25%      20.000000    59.000000    7589.500000     5.000000     5.000000   \n",
       "50%      50.000000    69.000000    9512.500000     6.000000     5.000000   \n",
       "75%      70.000000    80.000000   11601.500000     7.000000     6.000000   \n",
       "max     190.000000   313.000000  215245.000000    10.000000     9.000000   \n",
       "\n",
       "         YearBuilt  YearRemodAdd   MasVnrArea   BsmtFinSF1   BsmtFinSF2  ...  \\\n",
       "count  1168.000000   1168.000000  1162.000000  1168.000000  1168.000000  ...   \n",
       "mean   1970.890411   1984.692637   103.481067   439.890411    45.571918  ...   \n",
       "std      30.407486     20.684612   182.676225   435.106803   156.229962  ...   \n",
       "min    1872.000000   1950.000000     0.000000     0.000000     0.000000  ...   \n",
       "25%    1953.750000   1966.000000     0.000000     0.000000     0.000000  ...   \n",
       "50%    1972.000000   1993.000000     0.000000   379.500000     0.000000  ...   \n",
       "75%    2000.000000   2004.000000   167.750000   716.000000     0.000000  ...   \n",
       "max    2010.000000   2010.000000  1600.000000  2260.000000  1120.000000  ...   \n",
       "\n",
       "        GarageArea   WoodDeckSF  OpenPorchSF  EnclosedPorch    3SsnPorch  \\\n",
       "count  1168.000000  1168.000000  1168.000000    1168.000000  1168.000000   \n",
       "mean    473.632705    94.498288    48.044521      23.022260     3.218322   \n",
       "std     209.442320   127.312017    68.619199      63.153093    27.916593   \n",
       "min       0.000000     0.000000     0.000000       0.000000     0.000000   \n",
       "25%     336.000000     0.000000     0.000000       0.000000     0.000000   \n",
       "50%     477.500000     0.000000    26.000000       0.000000     0.000000   \n",
       "75%     576.000000   168.000000    68.000000       0.000000     0.000000   \n",
       "max    1390.000000   736.000000   547.000000     552.000000   508.000000   \n",
       "\n",
       "       ScreenPorch     PoolArea       MiscVal       MoSold       YrSold  \n",
       "count  1168.000000  1168.000000   1168.000000  1168.000000  1168.000000  \n",
       "mean     14.528253     2.118151     50.936644     6.301370  2007.819349  \n",
       "std      54.009608    36.482294    550.380636     2.725977     1.335971  \n",
       "min       0.000000     0.000000      0.000000     1.000000  2006.000000  \n",
       "25%       0.000000     0.000000      0.000000     5.000000  2007.000000  \n",
       "50%       0.000000     0.000000      0.000000     6.000000  2008.000000  \n",
       "75%       0.000000     0.000000      0.000000     8.000000  2009.000000  \n",
       "max     480.000000   738.000000  15500.000000    12.000000  2010.000000  \n",
       "\n",
       "[8 rows x 36 columns]"
      ]
     },
     "execution_count": 3,
     "metadata": {},
     "output_type": "execute_result"
    }
   ],
   "source": [
    "#Now let's look at the statistics\n",
    "X_train.describe()"
   ]
  },
  {
   "cell_type": "markdown",
   "metadata": {
    "papermill": {
     "duration": 0.024082,
     "end_time": "2020-11-01T12:57:23.542167",
     "exception": false,
     "start_time": "2020-11-01T12:57:23.518085",
     "status": "completed"
    },
    "tags": []
   },
   "source": [
    "Well, it seems the data has numerical as well as categorical data. And, probably, some missing data too. Let's look to be completely sure"
   ]
  },
  {
   "cell_type": "code",
   "execution_count": 4,
   "metadata": {
    "execution": {
     "iopub.execute_input": "2020-11-01T12:57:23.623383Z",
     "iopub.status.busy": "2020-11-01T12:57:23.610712Z",
     "iopub.status.idle": "2020-11-01T12:57:23.628183Z",
     "shell.execute_reply": "2020-11-01T12:57:23.627360Z"
    },
    "papermill": {
     "duration": 0.061932,
     "end_time": "2020-11-01T12:57:23.628362",
     "exception": false,
     "start_time": "2020-11-01T12:57:23.566430",
     "status": "completed"
    },
    "tags": []
   },
   "outputs": [
    {
     "name": "stdout",
     "output_type": "stream",
     "text": [
      "['LotFrontage', 'Alley', 'MasVnrType', 'MasVnrArea', 'BsmtQual', 'BsmtCond', 'BsmtExposure', 'BsmtFinType1', 'BsmtFinType2', 'Electrical', 'FireplaceQu', 'GarageType', 'GarageYrBlt', 'GarageFinish', 'GarageQual', 'GarageCond', 'PoolQC', 'Fence', 'MiscFeature']\n"
     ]
    }
   ],
   "source": [
    "# at first look at the missing values in the data\n",
    "cols_with_missing= [col for col in X.columns if X[col].isnull().any()] \n",
    "print(cols_with_missing)"
   ]
  },
  {
   "cell_type": "code",
   "execution_count": 5,
   "metadata": {
    "execution": {
     "iopub.execute_input": "2020-11-01T12:57:23.689420Z",
     "iopub.status.busy": "2020-11-01T12:57:23.686123Z",
     "iopub.status.idle": "2020-11-01T12:57:23.692930Z",
     "shell.execute_reply": "2020-11-01T12:57:23.693502Z"
    },
    "papermill": {
     "duration": 0.03956,
     "end_time": "2020-11-01T12:57:23.693692",
     "exception": false,
     "start_time": "2020-11-01T12:57:23.654132",
     "status": "completed"
    },
    "tags": []
   },
   "outputs": [
    {
     "name": "stdout",
     "output_type": "stream",
     "text": [
      "LotFrontage     False\n",
      "Alley            True\n",
      "MasVnrType       True\n",
      "MasVnrArea      False\n",
      "BsmtQual         True\n",
      "BsmtCond         True\n",
      "BsmtExposure     True\n",
      "BsmtFinType1     True\n",
      "BsmtFinType2     True\n",
      "Electrical       True\n",
      "FireplaceQu      True\n",
      "GarageType       True\n",
      "GarageYrBlt     False\n",
      "GarageFinish     True\n",
      "GarageQual       True\n",
      "GarageCond       True\n",
      "PoolQC           True\n",
      "Fence            True\n",
      "MiscFeature      True\n",
      "dtype: bool\n"
     ]
    }
   ],
   "source": [
    "#and how many of columns that have missing values are categorical \n",
    "s = (X[cols_with_missing ].dtypes == 'object')\n",
    "object_cols = list(s[s].index)\n",
    "print(s)"
   ]
  },
  {
   "cell_type": "markdown",
   "metadata": {
    "papermill": {
     "duration": 0.025462,
     "end_time": "2020-11-01T12:57:23.745075",
     "exception": false,
     "start_time": "2020-11-01T12:57:23.719613",
     "status": "completed"
    },
    "tags": []
   },
   "source": [
    "Now we have to deal with missing values first. Let's make custom class to deal with numeric as well as categirical missing values"
   ]
  },
  {
   "cell_type": "code",
   "execution_count": 6,
   "metadata": {
    "execution": {
     "iopub.execute_input": "2020-11-01T12:57:23.808748Z",
     "iopub.status.busy": "2020-11-01T12:57:23.807493Z",
     "iopub.status.idle": "2020-11-01T12:57:23.811292Z",
     "shell.execute_reply": "2020-11-01T12:57:23.810503Z"
    },
    "papermill": {
     "duration": 0.040499,
     "end_time": "2020-11-01T12:57:23.811432",
     "exception": false,
     "start_time": "2020-11-01T12:57:23.770933",
     "status": "completed"
    },
    "tags": []
   },
   "outputs": [],
   "source": [
    "\n",
    "import numpy as np\n",
    "\n",
    "from sklearn.base import TransformerMixin\n",
    "class DataFrameImputer(TransformerMixin):\n",
    "\n",
    "    def __init__(self):\n",
    "        \"\"\"Impute missing values.\n",
    "\n",
    "        Columns of dtype object are imputed with the most frequent value \n",
    "        in column.\n",
    "\n",
    "        Columns of other types are imputed with mean of column.\n",
    "\n",
    "        \"\"\"\n",
    "    def fit(self, X, y=None):\n",
    "\n",
    "        self.fill = pd.Series([X[c].value_counts().index[0]\n",
    "            if X[c].dtype == np.dtype('object') else X[c].mean() for c in X],\n",
    "            index=X.columns)\n",
    "\n",
    "        return self\n",
    "\n",
    "    def transform(self, X, y=None):\n",
    "        return X.fillna(self.fill)\n"
   ]
  },
  {
   "cell_type": "code",
   "execution_count": 7,
   "metadata": {
    "execution": {
     "iopub.execute_input": "2020-11-01T12:57:23.890488Z",
     "iopub.status.busy": "2020-11-01T12:57:23.888244Z",
     "iopub.status.idle": "2020-11-01T12:57:24.063941Z",
     "shell.execute_reply": "2020-11-01T12:57:24.063234Z"
    },
    "papermill": {
     "duration": 0.226227,
     "end_time": "2020-11-01T12:57:24.064075",
     "exception": false,
     "start_time": "2020-11-01T12:57:23.837848",
     "status": "completed"
    },
    "tags": []
   },
   "outputs": [],
   "source": [
    "#Now transform our data\n",
    "trans = DataFrameImputer()\n",
    "X_train_im = trans.fit_transform(X_train)\n",
    "X_valid_im = trans.transform(X_valid)\n",
    "X_test_im = trans.fit_transform(X_test)"
   ]
  },
  {
   "cell_type": "code",
   "execution_count": 8,
   "metadata": {
    "execution": {
     "iopub.execute_input": "2020-11-01T12:57:24.144813Z",
     "iopub.status.busy": "2020-11-01T12:57:24.143850Z",
     "iopub.status.idle": "2020-11-01T12:57:24.147639Z",
     "shell.execute_reply": "2020-11-01T12:57:24.148954Z"
    },
    "papermill": {
     "duration": 0.058582,
     "end_time": "2020-11-01T12:57:24.149198",
     "exception": false,
     "start_time": "2020-11-01T12:57:24.090616",
     "status": "completed"
    },
    "tags": []
   },
   "outputs": [
    {
     "name": "stdout",
     "output_type": "stream",
     "text": [
      "[]\n"
     ]
    }
   ],
   "source": [
    "#Check if everything works great\n",
    "print([col for col in X_train_im.columns if X_train_im[col].isnull().any()])"
   ]
  },
  {
   "cell_type": "markdown",
   "metadata": {
    "papermill": {
     "duration": 0.026823,
     "end_time": "2020-11-01T12:57:24.203628",
     "exception": false,
     "start_time": "2020-11-01T12:57:24.176805",
     "status": "completed"
    },
    "tags": []
   },
   "source": [
    "Now it's time to deat with categorical variables - I'll be using One-hot encoder for this step. Firstly, we need to check cardinality of columns. Only columns with cardinality less than 10 will be one-hot encoded(to prevent data becoming large volume)/ Other columns will be dropped from the dataset"
   ]
  },
  {
   "cell_type": "code",
   "execution_count": 9,
   "metadata": {
    "execution": {
     "iopub.execute_input": "2020-11-01T12:57:24.266983Z",
     "iopub.status.busy": "2020-11-01T12:57:24.264760Z",
     "iopub.status.idle": "2020-11-01T12:57:24.275185Z",
     "shell.execute_reply": "2020-11-01T12:57:24.275814Z"
    },
    "papermill": {
     "duration": 0.045774,
     "end_time": "2020-11-01T12:57:24.275988",
     "exception": false,
     "start_time": "2020-11-01T12:57:24.230214",
     "status": "completed"
    },
    "tags": []
   },
   "outputs": [
    {
     "data": {
      "text/plain": [
       "[('Alley', 2),\n",
       " ('GarageFinish', 3),\n",
       " ('PoolQC', 3),\n",
       " ('MiscFeature', 3),\n",
       " ('MasVnrType', 4),\n",
       " ('BsmtQual', 4),\n",
       " ('BsmtCond', 4),\n",
       " ('BsmtExposure', 4),\n",
       " ('Fence', 4),\n",
       " ('Electrical', 5),\n",
       " ('FireplaceQu', 5),\n",
       " ('GarageQual', 5),\n",
       " ('GarageCond', 5),\n",
       " ('BsmtFinType1', 6),\n",
       " ('BsmtFinType2', 6),\n",
       " ('GarageType', 6)]"
      ]
     },
     "execution_count": 9,
     "metadata": {},
     "output_type": "execute_result"
    }
   ],
   "source": [
    "# Get number of unique entries in each column with categorical data\n",
    "object_nunique = list(map(lambda col: X_train_im[col].nunique(), object_cols))\n",
    "d = dict(zip(object_cols, object_nunique))\n",
    "\n",
    "# Print number of unique entries by column, in ascending order\n",
    "sorted(d.items(), key=lambda x: x[1])# sort by object_nunique"
   ]
  },
  {
   "cell_type": "code",
   "execution_count": 10,
   "metadata": {
    "execution": {
     "iopub.execute_input": "2020-11-01T12:57:24.340945Z",
     "iopub.status.busy": "2020-11-01T12:57:24.339844Z",
     "iopub.status.idle": "2020-11-01T12:57:24.353626Z",
     "shell.execute_reply": "2020-11-01T12:57:24.354273Z"
    },
    "papermill": {
     "duration": 0.051159,
     "end_time": "2020-11-01T12:57:24.354448",
     "exception": false,
     "start_time": "2020-11-01T12:57:24.303289",
     "status": "completed"
    },
    "tags": []
   },
   "outputs": [
    {
     "name": "stdout",
     "output_type": "stream",
     "text": [
      "Categorical columns that will be one-hot encoded: ['MSZoning', 'Street', 'Alley', 'LotShape', 'LandContour', 'Utilities', 'LotConfig', 'LandSlope', 'Condition1', 'Condition2', 'BldgType', 'HouseStyle', 'RoofStyle', 'RoofMatl', 'MasVnrType', 'ExterQual', 'ExterCond', 'Foundation', 'BsmtQual', 'BsmtCond', 'BsmtExposure', 'BsmtFinType1', 'BsmtFinType2', 'Heating', 'HeatingQC', 'CentralAir', 'Electrical', 'KitchenQual', 'Functional', 'FireplaceQu', 'GarageType', 'GarageFinish', 'GarageQual', 'GarageCond', 'PavedDrive', 'PoolQC', 'Fence', 'MiscFeature', 'SaleType', 'SaleCondition']\n",
      "\n",
      "Categorical columns that will be dropped from the dataset: ['Exterior1st', 'Exterior2nd', 'Neighborhood']\n"
     ]
    }
   ],
   "source": [
    "# Columns that will be one-hot encoded\n",
    "object_cols = [col for col in X_train_im.columns if X_train_im[col].dtype == \"object\"]\n",
    "low_cardinality_cols = [col for col in object_cols if X_train_im[col].nunique() < 10]\n",
    "\n",
    "# Columns that will be dropped from the dataset\n",
    "high_cardinality_cols = list(set(object_cols)-set(low_cardinality_cols))\n",
    "\n",
    "print('Categorical columns that will be one-hot encoded:', low_cardinality_cols)\n",
    "print('\\nCategorical columns that will be dropped from the dataset:', high_cardinality_cols)"
   ]
  },
  {
   "cell_type": "code",
   "execution_count": 11,
   "metadata": {
    "execution": {
     "iopub.execute_input": "2020-11-01T12:57:24.424286Z",
     "iopub.status.busy": "2020-11-01T12:57:24.419642Z",
     "iopub.status.idle": "2020-11-01T12:57:24.551934Z",
     "shell.execute_reply": "2020-11-01T12:57:24.551231Z"
    },
    "papermill": {
     "duration": 0.169075,
     "end_time": "2020-11-01T12:57:24.552066",
     "exception": false,
     "start_time": "2020-11-01T12:57:24.382991",
     "status": "completed"
    },
    "tags": []
   },
   "outputs": [],
   "source": [
    "from sklearn.preprocessing import OneHotEncoder\n",
    "\n",
    "OH_encoder = OneHotEncoder(handle_unknown='ignore', sparse=False)\n",
    "OH_cols_train = pd.DataFrame(OH_encoder.fit_transform(X_train_im[low_cardinality_cols]))\n",
    "OH_cols_valid = pd.DataFrame(OH_encoder.transform(X_valid_im[low_cardinality_cols]))\n",
    "OH_cols_test = pd.DataFrame(OH_encoder.transform(X_test_im[low_cardinality_cols]))\n",
    "\n",
    "# One-hot encoding removed index; put it back\n",
    "OH_cols_train.index = X_train_im.index\n",
    "OH_cols_valid.index = X_valid_im.index\n",
    "OH_cols_test.index = X_test_im.index\n",
    "\n",
    "\n",
    "# Remove categorical columns (will replace with one-hot encoding)\n",
    "num_X_train = X_train_im.drop(object_cols, axis=1)\n",
    "num_X_valid = X_valid_im.drop(object_cols, axis=1)\n",
    "num_X_test = X_test_im.drop(object_cols, axis=1)\n",
    "\n",
    "# Add one-hot encoded columns to numerical features\n",
    "OH_X_test = pd.concat([num_X_test, OH_cols_test], axis=1)\n",
    "OH_X_train = pd.concat([num_X_train, OH_cols_train], axis=1)\n",
    "OH_X_valid = pd.concat([num_X_valid, OH_cols_valid], axis=1)"
   ]
  },
  {
   "cell_type": "markdown",
   "metadata": {
    "papermill": {
     "duration": 0.02769,
     "end_time": "2020-11-01T12:57:24.608069",
     "exception": false,
     "start_time": "2020-11-01T12:57:24.580379",
     "status": "completed"
    },
    "tags": []
   },
   "source": [
    "Now it is time to see the results."
   ]
  },
  {
   "cell_type": "code",
   "execution_count": 12,
   "metadata": {
    "execution": {
     "iopub.execute_input": "2020-11-01T12:57:24.671961Z",
     "iopub.status.busy": "2020-11-01T12:57:24.671119Z",
     "iopub.status.idle": "2020-11-01T12:57:24.884085Z",
     "shell.execute_reply": "2020-11-01T12:57:24.883389Z"
    },
    "papermill": {
     "duration": 0.248119,
     "end_time": "2020-11-01T12:57:24.884231",
     "exception": false,
     "start_time": "2020-11-01T12:57:24.636112",
     "status": "completed"
    },
    "tags": []
   },
   "outputs": [],
   "source": [
    "# a function that uses MAE metric and Random Forest for training\n",
    "from sklearn.ensemble import RandomForestRegressor\n",
    "from sklearn.metrics import mean_absolute_error\n",
    "def score_dataset(X_train, X_valid, y_train, y_valid):\n",
    "    model = RandomForestRegressor(n_estimators=100, random_state=0)\n",
    "    model.fit(X_train, y_train)\n",
    "    preds = model.predict(X_valid)\n",
    "    return mean_absolute_error(y_valid, preds)"
   ]
  },
  {
   "cell_type": "code",
   "execution_count": 13,
   "metadata": {
    "execution": {
     "iopub.execute_input": "2020-11-01T12:57:24.952451Z",
     "iopub.status.busy": "2020-11-01T12:57:24.951649Z",
     "iopub.status.idle": "2020-11-01T12:57:27.740684Z",
     "shell.execute_reply": "2020-11-01T12:57:27.739936Z"
    },
    "papermill": {
     "duration": 2.828129,
     "end_time": "2020-11-01T12:57:27.740816",
     "exception": false,
     "start_time": "2020-11-01T12:57:24.912687",
     "status": "completed"
    },
    "tags": []
   },
   "outputs": [
    {
     "name": "stdout",
     "output_type": "stream",
     "text": [
      "17648.417157534244\n"
     ]
    }
   ],
   "source": [
    "print(score_dataset(OH_X_train, OH_X_valid, y_train, y_valid))"
   ]
  },
  {
   "cell_type": "markdown",
   "metadata": {
    "papermill": {
     "duration": 0.028976,
     "end_time": "2020-11-01T12:57:27.799135",
     "exception": false,
     "start_time": "2020-11-01T12:57:27.770159",
     "status": "completed"
    },
    "tags": []
   },
   "source": [
    "Now we can make the same thing but using the pipelines to shorten the code."
   ]
  },
  {
   "cell_type": "code",
   "execution_count": 14,
   "metadata": {
    "execution": {
     "iopub.execute_input": "2020-11-01T12:57:27.868124Z",
     "iopub.status.busy": "2020-11-01T12:57:27.867015Z",
     "iopub.status.idle": "2020-11-01T12:57:27.893749Z",
     "shell.execute_reply": "2020-11-01T12:57:27.892993Z"
    },
    "papermill": {
     "duration": 0.064995,
     "end_time": "2020-11-01T12:57:27.893872",
     "exception": false,
     "start_time": "2020-11-01T12:57:27.828877",
     "status": "completed"
    },
    "tags": []
   },
   "outputs": [],
   "source": [
    "categorical_cols = [cname for cname in X_train.columns if X_train[cname].nunique() < 10 and \n",
    "                        X_train[cname].dtype == \"object\"]\n",
    "\n",
    "# Select numerical columns\n",
    "numerical_cols = [cname for cname in X_train.columns if X_train[cname].dtype in ['int64', 'float64']]\n",
    "\n",
    "# Keep selected columns only\n",
    "my_cols = categorical_cols + numerical_cols\n",
    "X_train_new = X_train[my_cols].copy()\n",
    "X_valid_new = X_valid[my_cols].copy()"
   ]
  },
  {
   "cell_type": "code",
   "execution_count": 15,
   "metadata": {
    "execution": {
     "iopub.execute_input": "2020-11-01T12:57:27.964320Z",
     "iopub.status.busy": "2020-11-01T12:57:27.963457Z",
     "iopub.status.idle": "2020-11-01T12:57:30.822577Z",
     "shell.execute_reply": "2020-11-01T12:57:30.821307Z"
    },
    "papermill": {
     "duration": 2.900142,
     "end_time": "2020-11-01T12:57:30.822799",
     "exception": false,
     "start_time": "2020-11-01T12:57:27.922657",
     "status": "completed"
    },
    "tags": []
   },
   "outputs": [
    {
     "name": "stdout",
     "output_type": "stream",
     "text": [
      "MAE: 17553.371061643833\n"
     ]
    }
   ],
   "source": [
    "from sklearn.compose import ColumnTransformer\n",
    "from sklearn.pipeline import Pipeline\n",
    "from sklearn.impute import SimpleImputer\n",
    "from sklearn.preprocessing import OneHotEncoder\n",
    "from sklearn.ensemble import RandomForestRegressor\n",
    "\n",
    "# Preprocessing for numerical data\n",
    "numerical_transformer = SimpleImputer(strategy='median')\n",
    "\n",
    "# Preprocessing for categorical data\n",
    "categorical_transformer = Pipeline(steps=[\n",
    "    ('imputer', SimpleImputer(strategy='most_frequent')),\n",
    "    ('onehot', OneHotEncoder(handle_unknown='ignore'))\n",
    "])\n",
    "\n",
    "# Bundle preprocessing for numerical and categorical data\n",
    "preprocessor = ColumnTransformer(\n",
    "    transformers=[\n",
    "        ('num', numerical_transformer, numerical_cols),\n",
    "        ('cat', categorical_transformer, categorical_cols)\n",
    "    ])\n",
    "\n",
    "model = RandomForestRegressor(n_estimators=100, random_state=0)\n",
    "\n",
    "# Bundle preprocessing and modeling code in a pipeline\n",
    "my_pipeline = Pipeline(steps=[('preprocessor', preprocessor),\n",
    "                              ('model', model)\n",
    "                             ])\n",
    "\n",
    "# Preprocessing of training data, fit model \n",
    "my_pipeline.fit(X_train, y_train)\n",
    "\n",
    "# Preprocessing of validation data, get predictions\n",
    "preds = my_pipeline.predict(X_valid)\n",
    "\n",
    "# Evaluate the model\n",
    "score = mean_absolute_error(y_valid, preds)\n",
    "print('MAE:', score)"
   ]
  },
  {
   "cell_type": "markdown",
   "metadata": {
    "papermill": {
     "duration": 0.0293,
     "end_time": "2020-11-01T12:57:30.882814",
     "exception": false,
     "start_time": "2020-11-01T12:57:30.853514",
     "status": "completed"
    },
    "tags": []
   },
   "source": [
    "And a little more tuning. Let's see how cross-validation can improve our score:"
   ]
  },
  {
   "cell_type": "code",
   "execution_count": 16,
   "metadata": {
    "execution": {
     "iopub.execute_input": "2020-11-01T12:57:30.959992Z",
     "iopub.status.busy": "2020-11-01T12:57:30.959192Z",
     "iopub.status.idle": "2020-11-01T12:57:45.384761Z",
     "shell.execute_reply": "2020-11-01T12:57:45.385600Z"
    },
    "papermill": {
     "duration": 14.473041,
     "end_time": "2020-11-01T12:57:45.385802",
     "exception": false,
     "start_time": "2020-11-01T12:57:30.912761",
     "status": "completed"
    },
    "tags": []
   },
   "outputs": [
    {
     "name": "stdout",
     "output_type": "stream",
     "text": [
      "MAE scores:\n",
      " [17755.50479452 17280.07143836 18014.31705479 16097.28071918\n",
      " 19276.7690411 ]\n",
      "Average MAE score (across experiments):\n",
      "17684.78860958904\n"
     ]
    }
   ],
   "source": [
    "from sklearn.model_selection import cross_val_score\n",
    "\n",
    "scores = -1 * cross_val_score(my_pipeline, X, y,\n",
    "                              cv=5,\n",
    "                              scoring='neg_mean_absolute_error')\n",
    "\n",
    "print(\"MAE scores:\\n\", scores)\n",
    "print(\"Average MAE score (across experiments):\")\n",
    "print(scores.mean())"
   ]
  },
  {
   "cell_type": "markdown",
   "metadata": {
    "papermill": {
     "duration": 0.030046,
     "end_time": "2020-11-01T12:57:45.446091",
     "exception": false,
     "start_time": "2020-11-01T12:57:45.416045",
     "status": "completed"
    },
    "tags": []
   },
   "source": [
    "The average MAE score became better. Maybe we can additionally check if RF parameters can improve it too"
   ]
  },
  {
   "cell_type": "code",
   "execution_count": 17,
   "metadata": {
    "execution": {
     "iopub.execute_input": "2020-11-01T12:57:45.515404Z",
     "iopub.status.busy": "2020-11-01T12:57:45.514311Z",
     "iopub.status.idle": "2020-11-01T12:57:45.518006Z",
     "shell.execute_reply": "2020-11-01T12:57:45.517240Z"
    },
    "papermill": {
     "duration": 0.041831,
     "end_time": "2020-11-01T12:57:45.518136",
     "exception": false,
     "start_time": "2020-11-01T12:57:45.476305",
     "status": "completed"
    },
    "tags": []
   },
   "outputs": [],
   "source": [
    "def get_score(n_estimators,preprocessor):\n",
    "    my_pipeline = Pipeline(steps=[\n",
    "        ('preprocessor', preprocessor),\n",
    "        ('model', RandomForestRegressor(n_estimators, random_state=0))\n",
    "    ])\n",
    "    scores = -1 * cross_val_score(my_pipeline, X, y,\n",
    "                                  cv=3,\n",
    "                                  scoring='neg_mean_absolute_error')\n",
    "    return scores.mean()"
   ]
  },
  {
   "cell_type": "code",
   "execution_count": 18,
   "metadata": {
    "execution": {
     "iopub.execute_input": "2020-11-01T12:57:45.591113Z",
     "iopub.status.busy": "2020-11-01T12:57:45.589384Z",
     "iopub.status.idle": "2020-11-01T12:59:51.997736Z",
     "shell.execute_reply": "2020-11-01T12:59:51.996934Z"
    },
    "papermill": {
     "duration": 126.449133,
     "end_time": "2020-11-01T12:59:51.997904",
     "exception": false,
     "start_time": "2020-11-01T12:57:45.548771",
     "status": "completed"
    },
    "tags": []
   },
   "outputs": [],
   "source": [
    "results = {}\n",
    "for i in range(1,9):\n",
    "    results[i*50]=get_score(i*50,preprocessor)\n",
    " "
   ]
  },
  {
   "cell_type": "code",
   "execution_count": 19,
   "metadata": {
    "execution": {
     "iopub.execute_input": "2020-11-01T12:59:52.065537Z",
     "iopub.status.busy": "2020-11-01T12:59:52.064732Z",
     "iopub.status.idle": "2020-11-01T12:59:52.069084Z",
     "shell.execute_reply": "2020-11-01T12:59:52.068076Z"
    },
    "papermill": {
     "duration": 0.040082,
     "end_time": "2020-11-01T12:59:52.069236",
     "exception": false,
     "start_time": "2020-11-01T12:59:52.029154",
     "status": "completed"
    },
    "tags": []
   },
   "outputs": [
    {
     "name": "stdout",
     "output_type": "stream",
     "text": [
      "{50: 18057.953678832077, 100: 18132.239140182468, 150: 17991.024749757995, 200: 17979.603878206482, 250: 17952.22268798923, 300: 17943.927657165874, 350: 17949.456442966875, 400: 17931.235367324793}\n"
     ]
    }
   ],
   "source": [
    "print(results)   "
   ]
  },
  {
   "cell_type": "markdown",
   "metadata": {
    "papermill": {
     "duration": 0.031016,
     "end_time": "2020-11-01T12:59:52.131361",
     "exception": false,
     "start_time": "2020-11-01T12:59:52.100345",
     "status": "completed"
    },
    "tags": []
   },
   "source": [
    "Plot the result to see if we need to change RF estimators parameter"
   ]
  },
  {
   "cell_type": "code",
   "execution_count": 20,
   "metadata": {
    "execution": {
     "iopub.execute_input": "2020-11-01T12:59:52.203857Z",
     "iopub.status.busy": "2020-11-01T12:59:52.203089Z",
     "iopub.status.idle": "2020-11-01T12:59:52.429367Z",
     "shell.execute_reply": "2020-11-01T12:59:52.428677Z"
    },
    "papermill": {
     "duration": 0.266374,
     "end_time": "2020-11-01T12:59:52.429509",
     "exception": false,
     "start_time": "2020-11-01T12:59:52.163135",
     "status": "completed"
    },
    "tags": []
   },
   "outputs": [
    {
     "data": {
      "image/png": "[encoded data removed]",
      "text/plain": [
       "<Figure size 432x288 with 1 Axes>"
      ]
     },
     "metadata": {
      "needs_background": "light"
     },
     "output_type": "display_data"
    }
   ],
   "source": [
    "import matplotlib.pyplot as plt\n",
    "%matplotlib inline\n",
    "\n",
    "plt.plot(list(results.keys()), list(results.values()))\n",
    "plt.show()"
   ]
  },
  {
   "cell_type": "code",
   "execution_count": 21,
   "metadata": {
    "execution": {
     "iopub.execute_input": "2020-11-01T12:59:52.504531Z",
     "iopub.status.busy": "2020-11-01T12:59:52.503418Z",
     "iopub.status.idle": "2020-11-01T12:59:52.581373Z",
     "shell.execute_reply": "2020-11-01T12:59:52.580665Z"
    },
    "papermill": {
     "duration": 0.119811,
     "end_time": "2020-11-01T12:59:52.581497",
     "exception": false,
     "start_time": "2020-11-01T12:59:52.461686",
     "status": "completed"
    },
    "tags": []
   },
   "outputs": [],
   "source": [
    "preds_test = my_pipeline.predict(X_test)"
   ]
  },
  {
   "cell_type": "markdown",
   "metadata": {
    "papermill": {
     "duration": 0.035552,
     "end_time": "2020-11-01T12:59:52.656983",
     "exception": false,
     "start_time": "2020-11-01T12:59:52.621431",
     "status": "completed"
    },
    "tags": []
   },
   "source": [
    "---\n",
    "**[Intermediate Machine Learning Home Page](https://www.kaggle.com/learn/intermediate-machine-learning)**\n",
    "\n",
    "\n",
    "\n",
    "\n",
    "\n",
    "*Have questions or comments? Visit the [Learn Discussion forum](https://www.kaggle.com/learn-forum/161289) to chat with other Learners.*"
   ]
  }
 ],
 "metadata": {
  "kernelspec": {
   "display_name": "Python 3",
   "language": "python",
   "name": "python3"
  },
  "language_info": {
   "codemirror_mode": {
    "name": "ipython",
    "version": 3
   },
   "file_extension": ".py",
   "mimetype": "text/x-python",
   "name": "python",
   "nbconvert_exporter": "python",
   "pygments_lexer": "ipython3",
   "version": "3.7.6"
  },
  "papermill": {
   "duration": 155.974503,
   "end_time": "2020-11-01T12:59:52.804264",
   "environment_variables": {},
   "exception": null,
   "input_path": "__notebook__.ipynb",
   "output_path": "__notebook__.ipynb",
   "parameters": {},
   "start_time": "2020-11-01T12:57:16.829761",
   "version": "2.1.0"
  }
 },
 "nbformat": 4,
 "nbformat_minor": 4
}
